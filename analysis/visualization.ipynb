{
 "cells": [
  {
   "cell_type": "markdown",
   "metadata": {},
   "source": [
    "# Result Analysis"
   ]
  },
  {
   "cell_type": "markdown",
   "metadata": {},
   "source": [
    "## Defining Parameters"
   ]
  },
  {
   "cell_type": "code",
   "execution_count": 1,
   "metadata": {},
   "outputs": [],
   "source": [
    "from pathlib import Path\n",
    "import sys\n",
    "import os\n",
    "\n",
    "sys.path.append(Path(os.getcwd()).parent.as_posix() + \"/src\")"
   ]
  },
  {
   "cell_type": "code",
   "execution_count": 2,
   "metadata": {},
   "outputs": [],
   "source": [
    "from utils import ploting\n",
    "import numpy as np\n",
    "import mlflow\n",
    "import pickle\n",
    "import matplotlib.pyplot as plt\n",
    "import os\n",
    "from mpl_toolkits.axes_grid1 import make_axes_locatable\n",
    "\n",
    "# The path to the output file\n",
    "PATH = \"file:///lrde/home2/rdi-2022/rhermary/update_morphonet/src/mlruns/0/9dd8f931b493403ab3a88f30301b9c6b/artifacts/outputs/001349.pickle\"\n",
    "MLFLOW_URI = \"../mlruns\""
   ]
  },
  {
   "cell_type": "code",
   "execution_count": null,
   "metadata": {},
   "outputs": [],
   "source": [
    "ploting(\n",
    "    uri=MLFLOW_URI,\n",
    "    experiment_name=\"baseline\",\n",
    "    models=[\"pconvnet\", \"lmorphnet\", \"smorphnet\"],\n",
    "    structuring_elements=[\"cross3\", \"cross7\", \"diskaa2\", \"diskaa3\", \"diamondaa3\", \"complex\"],\n",
    "    operations=[\"erosion\", \"dilation\"],\n",
    "    iterations=[0],\n",
    "    stretch=1,\n",
    ")"
   ]
  },
  {
   "cell_type": "markdown",
   "metadata": {},
   "source": [
    "## Model Structure"
   ]
  },
  {
   "cell_type": "code",
   "execution_count": 4,
   "metadata": {},
   "outputs": [],
   "source": [
    "# get_keys(PATH)"
   ]
  },
  {
   "cell_type": "markdown",
   "metadata": {},
   "source": [
    "## Structuring Element(s)"
   ]
  },
  {
   "cell_type": "code",
   "execution_count": 5,
   "metadata": {},
   "outputs": [],
   "source": [
    "# plot_sel(PATH)"
   ]
  }
 ],
 "metadata": {
  "kernelspec": {
   "display_name": "Python 3.9.6 ('env')",
   "language": "python",
   "name": "python3"
  },
  "language_info": {
   "codemirror_mode": {
    "name": "ipython",
    "version": 3
   },
   "file_extension": ".py",
   "mimetype": "text/x-python",
   "name": "python",
   "nbconvert_exporter": "python",
   "pygments_lexer": "ipython3",
   "version": "3.9.6"
  },
  "orig_nbformat": 4,
  "vscode": {
   "interpreter": {
    "hash": "5cd7ccf44083ab91dd564c2a21e291149f99dd7b65bc48e839522613b17389ad"
   }
  }
 },
 "nbformat": 4,
 "nbformat_minor": 2
}
