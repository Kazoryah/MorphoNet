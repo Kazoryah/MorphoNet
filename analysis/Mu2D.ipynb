{
 "cells": [
  {
   "cell_type": "code",
   "execution_count": 1,
   "metadata": {},
   "outputs": [],
   "source": [
    "import torch"
   ]
  },
  {
   "cell_type": "code",
   "execution_count": null,
   "metadata": {},
   "outputs": [],
   "source": [
    "device = torch.device(\"cuda\")\n",
    "dtype = torch.float64"
   ]
  },
  {
   "cell_type": "code",
   "execution_count": 273,
   "metadata": {},
   "outputs": [],
   "source": [
    "\n",
    "def load_mnist(**kwargs):\n",
    "    from tensorflow.keras.datasets.mnist import load_data\n",
    "\n",
    "    (x_train, _), (x_valid, _) = load_data()\n",
    "    x_all = np.concatenate((x_train, x_valid))\n",
    "\n",
    "    # Load as NCHW.\n",
    "    x_all = x_all[:, np.newaxis, :, :].astype(\"float32\")\n",
    "    x_all /= 255.0\n",
    "    y_all = x_all\n",
    "\n",
    "    return x_all\n",
    "\n",
    "x_all = torch.tensor(load_mnist(), dtype=dtype, device=device)"
   ]
  },
  {
   "cell_type": "code",
   "execution_count": 282,
   "metadata": {},
   "outputs": [],
   "source": [
    "from utils.dim import ValidDim\n",
    "\n",
    "def translate(x, di, dj):\n",
    "    max_i, max_j = x.size(1), x.size(2)\n",
    "    pad_i = max(0, di), max(0, -di)\n",
    "    pad_j = max(0, dj), max(0, -dj)\n",
    "    return torch.nn.functional.pad(\n",
    "        x[:, pad_i[1] : max_i - pad_i[0], pad_j[1] : max_j - pad_j[0]],\n",
    "        (*pad_j, *pad_i),\n",
    "    )\n",
    "\n",
    "\n",
    "def mu2d_function(input: torch.Tensor, filter: torch.Tensor, p: torch.Tensor):\n",
    "    dim = ValidDim(input.size(), filter.size(), p.size())\n",
    "\n",
    "    upper = (\n",
    "        torch.zeros((input.size(0), filter.size(0), input.size(2), input.size(3)),\n",
    "        device=input.device,\n",
    "        dtype=input.dtype,\n",
    "        requires_grad=True)\n",
    "    )\n",
    "    lower = torch.zeros_like(upper)\n",
    "    kernel_i, kernel_j, kernel_k = filter.size(1), filter.size(2), filter.size(3)\n",
    "    for i in range(kernel_i):\n",
    "        for j in range(kernel_j):\n",
    "            for k in range(kernel_k):\n",
    "                window = translate(\n",
    "                    input[:, i, :, :], kernel_j // 2 - j, kernel_k // 2 - k\n",
    "                )\n",
    "\n",
    "                window = window + 1.0\n",
    "\n",
    "                window = window.unsqueeze(1).repeat(1, filter.size(0), 1, 1) + filter[\n",
    "                    :, i, j, k\n",
    "                ].unsqueeze(0).repeat(input.size(0), 1)\n",
    "                upper = upper + window.pow(p + 1.0)\n",
    "                lower = lower + window.pow(p)\n",
    "\n",
    "    mu = upper / lower\n",
    "\n",
    "    return mu[\n",
    "        :,\n",
    "        :,\n",
    "        dim.padding_row // 2 : dim.padding_row // 2 + dim.output_rows,\n",
    "        dim.padding_col // 2 : dim.padding_col // 2 + dim.output_cols,\n",
    "    ]"
   ]
  },
  {
   "cell_type": "code",
   "execution_count": 283,
   "metadata": {},
   "outputs": [],
   "source": [
    "import numpy as np"
   ]
  },
  {
   "cell_type": "code",
   "execution_count": 284,
   "metadata": {},
   "outputs": [],
   "source": [
    "import matplotlib.pyplot as plt"
   ]
  },
  {
   "cell_type": "code",
   "execution_count": 285,
   "metadata": {},
   "outputs": [],
   "source": [
    "from preprocessing.morpho import draw_disk_aa, dilation"
   ]
  },
  {
   "cell_type": "code",
   "execution_count": 286,
   "metadata": {},
   "outputs": [],
   "source": [
    "filter = torch.tensor(draw_disk_aa(3, (9, 9))[np.newaxis, np.newaxis, :, :], dtype=dtype, device=device)"
   ]
  },
  {
   "cell_type": "code",
   "execution_count": 287,
   "metadata": {},
   "outputs": [
    {
     "data": {
      "text/plain": [
       "<matplotlib.image.AxesImage at 0x7fe422e19e80>"
      ]
     },
     "execution_count": 287,
     "metadata": {},
     "output_type": "execute_result"
    },
    {
     "data": {
      "image/png": "[encoded data removed]",
      "text/plain": [
       "<Figure size 432x288 with 1 Axes>"
      ]
     },
     "metadata": {
      "needs_background": "light"
     },
     "output_type": "display_data"
    }
   ],
   "source": [
    "plt.imshow(x_all[0][0].cpu())"
   ]
  },
  {
   "cell_type": "code",
   "execution_count": 288,
   "metadata": {},
   "outputs": [
    {
     "data": {
      "text/plain": [
       "<matplotlib.image.AxesImage at 0x7fe420cac8b0>"
      ]
     },
     "execution_count": 288,
     "metadata": {},
     "output_type": "execute_result"
    },
    {
     "data": {
      "image/png": "[encoded data removed]",
      "text/plain": [
       "<Figure size 432x288 with 1 Axes>"
      ]
     },
     "metadata": {
      "needs_background": "light"
     },
     "output_type": "display_data"
    }
   ],
   "source": [
    "res = mu2d_function(x_all[0:1, :, :, :], filter, torch.ones(1, 1, dtype=dtype, device=device) * 150.0)\n",
    " \n",
    "plt.imshow(res.detach().cpu().squeeze())"
   ]
  },
  {
   "cell_type": "code",
   "execution_count": 289,
   "metadata": {},
   "outputs": [],
   "source": [
    "target = dilation(x_all[0:1, :, :, :].cpu().numpy().squeeze(), filter.cpu().numpy().squeeze())"
   ]
  },
  {
   "cell_type": "code",
   "execution_count": 290,
   "metadata": {},
   "outputs": [
    {
     "data": {
      "text/plain": [
       "<matplotlib.image.AxesImage at 0x7fe42119ed30>"
      ]
     },
     "execution_count": 290,
     "metadata": {},
     "output_type": "execute_result"
    },
    {
     "data": {
      "image/png": "[encoded data removed]",
      "text/plain": [
       "<Figure size 432x288 with 1 Axes>"
      ]
     },
     "metadata": {
      "needs_background": "light"
     },
     "output_type": "display_data"
    }
   ],
   "source": [
    "plt.imshow(target)"
   ]
  },
  {
   "cell_type": "code",
   "execution_count": null,
   "metadata": {},
   "outputs": [],
   "source": []
  }
 ],
 "metadata": {
  "kernelspec": {
   "display_name": "Python 3",
   "language": "python",
   "name": "python3"
  },
  "language_info": {
   "codemirror_mode": {
    "name": "ipython",
    "version": 3
   },
   "file_extension": ".py",
   "mimetype": "text/x-python",
   "name": "python",
   "nbconvert_exporter": "python",
   "pygments_lexer": "ipython3",
   "version": "3.8.5"
  }
 },
 "nbformat": 4,
 "nbformat_minor": 4
}
